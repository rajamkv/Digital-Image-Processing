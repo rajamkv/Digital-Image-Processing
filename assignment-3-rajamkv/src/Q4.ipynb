{
 "cells": [
  {
   "cell_type": "code",
   "execution_count": 2,
   "metadata": {},
   "outputs": [],
   "source": [
    "def two_pass(img):\n",
    "    cls = np.zeros(img.shape,dtype=np.int32)\n",
    "    #1st pass\n",
    "    neig = []\n",
    "    c = 0\n",
    "    if img[0,0]==0:\n",
    "        cls[0,0] = 0\n",
    "    else:\n",
    "        cls[0,0] = 1\n",
    "        c = 1\n",
    "    for i in range(img.shape[0]):\n",
    "        for j in range(img.shape[1]):\n",
    "            if i==0:\n",
    "                if j!=0:\n",
    "                    if img[i,j]==1 and img[i,j-1]==1:\n",
    "                        cls[i,j] = cls[i,j-1]\n",
    "                    elif img[i,j]==1:\n",
    "                        cls[i,j] = c+1\n",
    "                        c+=1\n",
    "            else:\n",
    "                if img[i,j]==1 and img[i-1,j]==1:\n",
    "                    cls[i,j] = cls[i-1,j]\n",
    "                    if j>0 and img[i,j-1]==1:\n",
    "                        cls[i,j] = np.min(np.array([cls[i-1,j],cls[i,j-1]]))\n",
    "                        if cls[i-1,j]!=cls[i,j-1]:\n",
    "                            neig.append(cls[i-1,j])\n",
    "                            neig.append(cls[i,j-1])\n",
    "                elif img[i,j]==1 and j>0 and img[i,j-1]==1:\n",
    "                    cls[i,j] = cls[i,j-1]\n",
    "                elif img[i,j]==1:\n",
    "                    cls[i,j] = c+1\n",
    "                    c+=1\n",
    "                    \n",
    "    #calculate the neigbourhood\n",
    "    arr = np.arange(c+1)\n",
    "    \n",
    "    for i in range(len(neig)//2):\n",
    "        j = min(neig[2*i],neig[2*i+1])\n",
    "        k = max(neig[2*i],neig[2*i+1])\n",
    "        arr[k] = j\n",
    "    \n",
    "    for i in range(c+1):\n",
    "        j = arr[i]\n",
    "        k = i\n",
    "        while j!=k:\n",
    "            k = j\n",
    "            j = arr[j]\n",
    "        arr[i] = j\n",
    "    out = cls.copy()\n",
    "    for i in range(img.shape[0]):\n",
    "        for j in range(img.shape[1]):\n",
    "            out[i,j] = arr[cls[i,j]]\n",
    "    \n",
    "#     u = np.unique(cls)\n",
    "    return out"
   ]
  },
  {
   "cell_type": "markdown",
   "metadata": {},
   "source": [
    "## 4.1"
   ]
  },
  {
   "cell_type": "code",
   "execution_count": 3,
   "metadata": {},
   "outputs": [
    {
     "name": "stdout",
     "output_type": "stream",
     "text": [
      "no. of objects with atleat one hole is  6\n"
     ]
    }
   ],
   "source": [
    "_,img = cv2.threshold(cv2.cvtColor(cv2.imread('../images/objects.png'),cv2.COLOR_BGR2GRAY),127,255,cv2.THRESH_BINARY)\n",
    "\n",
    "cls = two_pass(img//255)\n",
    "arr = np.unique(cls)\n",
    "\n",
    "img_inv = 255 - img\n",
    "    #get the holes\n",
    "cls_inv = two_pass(img_inv//255)\n",
    "arr_inv = np.unique(cls_inv)\n",
    "arr_inv = arr_inv[2:]\n",
    "\n",
    "ind = np.zeros(arr_inv.size)\n",
    "\n",
    "#get the label of the connected component of the object surrounding each hole\n",
    "for i in range(arr_inv.size):\n",
    "    a = np.where(cls_inv==arr_inv[i])\n",
    "    k = a[0][0]\n",
    "    l = a[1][0]\n",
    "    ind[i] = cls[k-1,l]\n",
    "\n",
    "#count the unique\n",
    "c = np.unique(ind).size\n",
    "print(\"no. of objects with atleat one hole is \",c)"
   ]
  },
  {
   "cell_type": "markdown",
   "metadata": {},
   "source": [
    "## 4.2"
   ]
  },
  {
   "cell_type": "code",
   "execution_count": 4,
   "metadata": {},
   "outputs": [
    {
     "name": "stdout",
     "output_type": "stream",
     "text": [
      "no. of square objects in the image are  11\n"
     ]
    }
   ],
   "source": [
    "_,img = cv2.threshold(cv2.cvtColor(cv2.imread('../images/objects.png'),cv2.COLOR_BGR2GRAY),127,255,cv2.THRESH_BINARY)\n",
    "\n",
    "cls = two_pass(img//255)\n",
    "arr = np.unique(cls)\n",
    "arr = arr[1:]\n",
    "count=0\n",
    "for i in range(arr.size):\n",
    "    a = np.where(cls==arr[i])\n",
    "    k1 = np.min(a[0])\n",
    "    l1 = np.min(a[1])\n",
    "    k2 = np.max(a[0])\n",
    "    l2 = np.max(a[1])\n",
    "    squ = True\n",
    "\n",
    "    for k in range(k1,k2):\n",
    "        if img[k,l1]==0 or img[k,l2]==0:\n",
    "            squ = False\n",
    "    if squ==False:\n",
    "        continue\n",
    "    for l in range(l1,l2):\n",
    "        if img[k1,l]==0 or img[k2,l]==0:\n",
    "            squ = False\n",
    "    if squ==False:\n",
    "        continue\n",
    "    count+=1\n",
    "print(\"no. of square objects in the image are \",count)"
   ]
  },
  {
   "cell_type": "markdown",
   "metadata": {},
   "source": [
    "## 4.3"
   ]
  },
  {
   "cell_type": "code",
   "execution_count": 5,
   "metadata": {},
   "outputs": [
    {
     "data": {
      "image/png": "[encoded data removed]",
      "text/plain": [
       "<Figure size 720x720 with 2 Axes>"
      ]
     },
     "metadata": {
      "needs_background": "light"
     },
     "output_type": "display_data"
    }
   ],
   "source": [
    "_,img = cv2.threshold(cv2.cvtColor(cv2.imread('../images/objects.png'),cv2.COLOR_BGR2GRAY),127,255,cv2.THRESH_BINARY)\n",
    "\n",
    "cls = two_pass(img//255)\n",
    "arr = np.unique(cls)\n",
    "arr = arr[1:]\n",
    "cls_inv = two_pass(img_inv//255)\n",
    "arr_inv = np.unique(cls_inv)\n",
    "arr_inv = arr_inv[2:]\n",
    "\n",
    "ind = np.zeros(arr_inv.size)\n",
    "\n",
    "#get the label of the connected component of the object surrounding each hole\n",
    "for i in range(arr_inv.size):\n",
    "    a = np.where(cls_inv==arr_inv[i])\n",
    "    k = a[0][0]\n",
    "    l = a[1][0]\n",
    "    ind[i] = cls[k-1,l]\n",
    "\n",
    "arr = np.unique(ind)\n",
    "ind = np.zeros(arr.size)\n",
    "for i in range(arr.size):\n",
    "    a = np.where(cls==arr[i])\n",
    "    k1 = np.min(a[0])\n",
    "    l1 = np.min(a[1])\n",
    "    k2 = np.max(a[0])\n",
    "    l2 = np.max(a[1])\n",
    "    squ = True\n",
    "    \n",
    "    for k in range(k1,k2):\n",
    "        if img[k,l1]==0 or img[k,l2]==0:\n",
    "            squ = False\n",
    "    if squ==False:\n",
    "        ind[i] = 0\n",
    "        continue\n",
    "    for l in range(l1,l2):\n",
    "        if img[k1,l]==0 or img[k2,l]==0:\n",
    "            ind[i] = 0\n",
    "            squ = False\n",
    "    if squ==False:\n",
    "        ind[i] = 0\n",
    "        continue\n",
    "    ind[i] = 1\n",
    "\n",
    "out = np.zeros(img.shape,dtype=np.uint8)\n",
    "for i in range(arr.size):\n",
    "    if ind[i]==1:\n",
    "        out[cls==arr[i]] = 1\n",
    "        \n",
    "fig = plt.figure()\n",
    "fig.set_size_inches(10, 10)\n",
    "plt.imshow(out)\n",
    "fig.add_subplot(121)\n",
    "plt.imshow(img,'gray')\n",
    "plt.subplot(1,2,2)\n",
    "plt.imshow(out,'gray')\n",
    "plt.show()"
   ]
  },
  {
   "cell_type": "markdown",
   "metadata": {},
   "source": [
    "## 4.4\n"
   ]
  },
  {
   "cell_type": "code",
   "execution_count": 6,
   "metadata": {},
   "outputs": [
    {
     "data": {
      "image/png": "[encoded data removed]",
      "text/plain": [
       "<Figure size 720x720 with 2 Axes>"
      ]
     },
     "metadata": {
      "needs_background": "light"
     },
     "output_type": "display_data"
    }
   ],
   "source": [
    "_,img = cv2.threshold(cv2.cvtColor(cv2.imread('../images/objects.png'),cv2.COLOR_BGR2GRAY),127,255,cv2.THRESH_BINARY)\n",
    "out = img//255\n",
    "img_inv = 255 - img\n",
    "cls = two_pass(img//255)\n",
    "arr = np.unique(cls)\n",
    "arr = arr[1:]\n",
    "cls_inv = two_pass(img_inv//255)\n",
    "arr_inv = np.unique(cls_inv)\n",
    "arr_inv = arr_inv[2:]\n",
    "\n",
    "\n",
    "#get the label of the connected component of the object surrounding each hole\n",
    "for i in range(arr_inv.size):\n",
    "    a = np.where(cls_inv==arr_inv[i])\n",
    "    k = a[0][0]\n",
    "    k1 = a[0][-1]\n",
    "    l = a[1][0]\n",
    "    out[cls==cls[k-1,l]] = 0\n",
    "    \n",
    "ind = np.zeros(arr.size)\n",
    "for i in range(arr.size):\n",
    "    a = np.where(cls==arr[i])\n",
    "    k1 = np.min(a[0])\n",
    "    l1 = np.min(a[1])\n",
    "    k2 = np.max(a[0])\n",
    "    l2 = np.max(a[1])\n",
    "    squ = True\n",
    "    \n",
    "    for k in range(k1,k2):\n",
    "        if img[k,l1]==0 or img[k,l2]==0:\n",
    "            squ = False\n",
    "    if squ==False:\n",
    "        ind[i] = 0\n",
    "        continue\n",
    "    for l in range(l1,l2):\n",
    "        if img[k1,l]==0 or img[k2,l]==0:\n",
    "            ind[i] = 0\n",
    "            squ = False\n",
    "    if squ==False:\n",
    "        ind[i] = 0\n",
    "        continue\n",
    "    ind[i] = 1\n",
    "\n",
    "\n",
    "for i in range(arr.size):\n",
    "    if ind[i]==1:\n",
    "        out[cls==arr[i]] = 0\n",
    "        \n",
    "fig = plt.figure()\n",
    "fig.set_size_inches(10, 10)\n",
    "plt.imshow(out)\n",
    "fig.add_subplot(121)\n",
    "plt.imshow(img,'gray')\n",
    "plt.subplot(1,2,2)\n",
    "plt.imshow(out,'gray')\n",
    "plt.show()"
   ]
  }
 ],
 "metadata": {
  "kernelspec": {
   "display_name": "Python 3",
   "language": "python",
   "name": "python3"
  },
  "language_info": {
   "codemirror_mode": {
    "name": "ipython",
    "version": 3
   },
   "file_extension": ".py",
   "mimetype": "text/x-python",
   "name": "python",
   "nbconvert_exporter": "python",
   "pygments_lexer": "ipython3",
   "version": "3.8.3"
  }
 },
 "nbformat": 4,
 "nbformat_minor": 2
}
